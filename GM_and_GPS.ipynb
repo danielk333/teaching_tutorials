{
 "cells": [
  {
   "cell_type": "markdown",
   "metadata": {},
   "source": [
    "# GPS\n",
    "\n",
    "## How does it work: Triangulation\n",
    "\n",
    "<img style=\"width:40%\" src=\"files/gps.jpg\">\n",
    "https://www.researchgate.net/publication/316658355_GPSGIS\n",
    "\n",
    "## Lets visualize Triangulation!"
   ]
  },
  {
   "cell_type": "code",
   "execution_count": null,
   "metadata": {},
   "outputs": [],
   "source": [
    "%matplotlib widget\n",
    "import numpy as np\n",
    "import matplotlib.pyplot as plt\n",
    "from mpl_toolkits.mplot3d import Axes3D\n",
    "import scipy.constants as constants\n",
    "\n",
    "np.random.seed(983474)"
   ]
  },
  {
   "cell_type": "markdown",
   "metadata": {},
   "source": [
    "### Time delay is a distance (speed of light) = A sphere around each satellite"
   ]
  },
  {
   "cell_type": "code",
   "execution_count": null,
   "metadata": {},
   "outputs": [],
   "source": [
    "theta = np.linspace(0, 2 * np.pi, 100)\n",
    "phi = np.linspace(0, np.pi, 100)\n",
    "\n",
    "def sphere(p0, r):\n",
    "    x = p0[0] + r*np.outer(np.cos(theta), np.sin(phi))\n",
    "    y = p0[1] + r*np.outer(np.sin(theta), np.sin(phi))\n",
    "    z = p0[2] + r*np.outer(np.ones(np.size(theta)), np.cos(phi))\n",
    "    return x,y,z"
   ]
  },
  {
   "cell_type": "markdown",
   "metadata": {},
   "source": [
    "### The setting"
   ]
  },
  {
   "cell_type": "code",
   "execution_count": null,
   "metadata": {},
   "outputs": [],
   "source": [
    "satellites = [np.random.randn(3,1)*10 for i in range(4)] #4 satellites with x,y,z coordinates\n",
    "\n",
    "our_position = np.ones((3,1)) #we are at this location [1,1,1]\n",
    "\n",
    "ranges = [np.linalg.norm(sat - our_position) for sat in satellites]"
   ]
  },
  {
   "cell_type": "markdown",
   "metadata": {},
   "source": [
    "### The plot"
   ]
  },
  {
   "cell_type": "code",
   "execution_count": null,
   "metadata": {},
   "outputs": [],
   "source": [
    "fig = plt.figure()\n",
    "ax = fig.gca(projection='3d')\n",
    "\n",
    "ax.plot(our_position[0], our_position[1], our_position[2], 'xg')\n",
    "\n",
    "for sat in satellites:\n",
    "    ax.plot(sat[0], sat[1], sat[2], '.r')\n",
    "    ax.plot([sat[0,0], our_position[0,0]], [sat[1,0], our_position[1,0]], [sat[2,0], our_position[2,0]], '-k', alpha=0.3)"
   ]
  },
  {
   "cell_type": "code",
   "execution_count": null,
   "metadata": {},
   "outputs": [],
   "source": [
    "for sat, r in zip(satellites, ranges):\n",
    "    x, y, z = sphere(sat, r)\n",
    "    ax.plot_surface(x, y, z,  rstride=4, cstride=4, color='b', linewidth=0, alpha=0.1)"
   ]
  },
  {
   "cell_type": "markdown",
   "metadata": {},
   "source": [
    "# General relativity\n",
    "\n",
    "One fact: Time slows down in more curved field\n",
    "\n",
    "This means:\n",
    "- Time slows down when you are affected by more gravity (close to the Earth)\n",
    "- Time slows down when you go faster (Traveling around the Earth)\n",
    "\n",
    "So, with respect to us, a satellite:\n",
    "- Has a faster clock due to being higher up at ~20 200 km altitude\n",
    "- Has a slower clock due to going around the Earth at ~4 km/s\n",
    "\n",
    "## Accelerating frame time dialation\n",
    "\n",
    "- $t = $ Time for us on Earth\n",
    "- $t' = $ Time for the satellite\n",
    "- $v = $ Satellite velocity\n",
    "\n",
    "$$ \\frac{t}{t'} = \\frac{1}{\\sqrt{1 - \\frac{v^2}{c^2}}} $$"
   ]
  },
  {
   "cell_type": "code",
   "execution_count": null,
   "metadata": {},
   "outputs": [],
   "source": [
    "v = 4e3 #m/s\n",
    "t_frame_fraction = 1/np.sqrt(1 - v**2/constants.c**2)\n",
    "\n",
    "print(f'Our time is {t_frame_fraction} of the Satellite time (i.e. faster)')"
   ]
  },
  {
   "cell_type": "markdown",
   "metadata": {},
   "source": [
    "## Gravitational time dialation\n",
    "\n",
    "- $t = $ Time unaffected by gravity\n",
    "- $t' = $ Time affected by gravity\n",
    "- $r = $ Observer radius from center of Earth\n",
    "- $r_e = $ Radius of the Earth\n",
    "- $r_{\\mathrm{sat}} = $ Distance from center of earth to satellite\n",
    "- $r_s = \\frac{2GM}{c^2} $ Schwarzschild radius of the Earth (even though we are not a black hole, its fine)\n",
    "\n",
    "$$ \\frac{t'}{t} = \\sqrt{1 - \\frac{r_s}{r}} $$\n",
    "\n",
    "Then time dialation difference between us and a satellite is\n",
    "\n",
    "$$ \\frac{t'_{\\mathrm{sat}}}{\\sqrt{1 - \\frac{r_s}{r_{\\mathrm{sat}}}}} = \\frac{t'_{\\mathrm{earth}}}{\\sqrt{1 - \\frac{r_s}{r_e}}} $$\n",
    "$$ \\frac{t'_{\\mathrm{earth}}}{t'_{\\mathrm{sat}}} = \\frac{\\sqrt{1 - \\frac{r_s}{r_e}}}{\\sqrt{1 - \\frac{r_s}{r_{\\mathrm{sat}}}}} $$"
   ]
  },
  {
   "cell_type": "code",
   "execution_count": null,
   "metadata": {},
   "outputs": [],
   "source": [
    "M_earth = 5.97e24 # kg\n",
    "r_e = 6.37e6 # m\n",
    "r_s = 2*constants.G*M_earth/constants.c**2 # m\n",
    "\n",
    "r_sat = 20.2e6 + r_e\n",
    "\n",
    "t_field_fraction = np.sqrt(1 - r_s/r_e)/np.sqrt(1 - r_s/r_sat)\n",
    "print(f'Our time is {t_field_fraction} of the Satellite time (i.e. slower)')"
   ]
  },
  {
   "cell_type": "markdown",
   "metadata": {},
   "source": [
    "# Effect on GPS\n",
    "\n",
    "## Time of a signal\n",
    "\n",
    "How do we know the travel time? **CLOCKS**\n",
    "- A clock on the satellite\n",
    "- A clock on Earth\n",
    "\n",
    "And we compare\n",
    "\n",
    "## Uncorrected clocks\n",
    "\n",
    "### Error per day"
   ]
  },
  {
   "cell_type": "code",
   "execution_count": null,
   "metadata": {},
   "outputs": [],
   "source": [
    "dt = 24*60*60.0 #s \n",
    "\n",
    "t_err_frame = dt - dt*t_frame_fraction\n",
    "print(f'Clock on GPS approx {t_err_frame*1e6:.0f} microseconds error per day due to Speed')\n",
    "\n",
    "t_err_field = dt - dt*t_field_fraction\n",
    "print(f'Clock on GPS approx {t_err_field*1e6:.0f} microseconds error per day due to Gravity field')"
   ]
  },
  {
   "cell_type": "markdown",
   "metadata": {},
   "source": [
    "### Effects on distance calculation"
   ]
  },
  {
   "cell_type": "code",
   "execution_count": null,
   "metadata": {},
   "outputs": [],
   "source": [
    "time_dialation = t_field_fraction*t_frame_fraction\n",
    "\n",
    "time = np.linspace(0, 24, num=1000) # hours\n",
    "time_s = time*60*60\n",
    "time_error = time_s - time_dialation*time_s\n",
    "\n",
    "fig, ax = plt.subplots(1,1)\n",
    "ax.plot(time, time_error*1e6)\n",
    "ax.set_xlabel('Time [h]')\n",
    "ax.set_ylabel('Timing error [microseconds]')"
   ]
  },
  {
   "cell_type": "code",
   "execution_count": null,
   "metadata": {},
   "outputs": [],
   "source": [
    "fig, ax = plt.subplots(1,1)\n",
    "ax.plot(time, time_error*constants.c*1e-3)\n",
    "ax.set_xlabel('Time [h]')\n",
    "ax.set_ylabel('Distance error [km]')"
   ]
  },
  {
   "cell_type": "code",
   "execution_count": null,
   "metadata": {},
   "outputs": [],
   "source": []
  }
 ],
 "metadata": {
  "kernelspec": {
   "display_name": "Python 3",
   "language": "python",
   "name": "python3"
  },
  "language_info": {
   "codemirror_mode": {
    "name": "ipython",
    "version": 3
   },
   "file_extension": ".py",
   "mimetype": "text/x-python",
   "name": "python",
   "nbconvert_exporter": "python",
   "pygments_lexer": "ipython3",
   "version": "3.7.0"
  }
 },
 "nbformat": 4,
 "nbformat_minor": 4
}
