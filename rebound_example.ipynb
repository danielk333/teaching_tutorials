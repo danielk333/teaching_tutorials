{
 "cells": [
  {
   "cell_type": "markdown",
   "metadata": {},
   "source": [
    "# Integrating the solarsystem\n",
    "\n",
    "Remember to `pip install rebound` first."
   ]
  },
  {
   "cell_type": "code",
   "execution_count": 1,
   "metadata": {},
   "outputs": [
    {
     "name": "stdout",
     "output_type": "stream",
     "text": [
      "3.17.3\n"
     ]
    }
   ],
   "source": [
    "%matplotlib widget\n",
    "import rebound\n",
    "import numpy as np\n",
    "import matplotlib.pyplot as plt\n",
    "\n",
    "print(rebound.__version__)"
   ]
  },
  {
   "cell_type": "markdown",
   "metadata": {},
   "source": [
    "### Add bodies"
   ]
  },
  {
   "cell_type": "code",
   "execution_count": 17,
   "metadata": {},
   "outputs": [
    {
     "name": "stdout",
     "output_type": "stream",
     "text": [
      "Searching NASA Horizons for 'Sun'... Found: Target body name: Sun (10).\n",
      "Searching NASA Horizons for 'Jupiter'... Found: Target body name: Jupiter Barycenter (5).\n",
      "Searching NASA Horizons for 'Saturn'... Found: Target body name: Saturn Barycenter (6).\n",
      "Searching NASA Horizons for 'Churyumov-Gerasimenko'... Found: Target body name: 67P/Churyumov-Gerasimenko.\n"
     ]
    }
   ],
   "source": [
    "sim = rebound.Simulation()\n",
    "\n",
    "#Add the large planets of the solar system and the sun\n",
    "sim.add(\"Sun\")\n",
    "sim.add(\"Jupiter\")\n",
    "sim.add(\"Saturn\")\n",
    "\n",
    "#add a the 67P/Churyumov–Gerasimenko comet\n",
    "sim.add(\"Churyumov-Gerasimenko\", m=5e-18)\n"
   ]
  },
  {
   "cell_type": "markdown",
   "metadata": {},
   "source": [
    "### Plot starting orbits"
   ]
  },
  {
   "cell_type": "code",
   "execution_count": 3,
   "metadata": {},
   "outputs": [
    {
     "data": {
      "application/vnd.jupyter.widget-view+json": {
       "model_id": "794fb18bbb344073ae1262f8e867ee64",
       "version_major": 2,
       "version_minor": 0
      },
      "text/plain": [
       "Canvas(toolbar=Toolbar(toolitems=[('Home', 'Reset original view', 'home', 'home'), ('Back', 'Back to previous …"
      ]
     },
     "metadata": {},
     "output_type": "display_data"
    }
   ],
   "source": [
    "fig = rebound.OrbitPlot(sim, unitlabel=\"[AU]\")"
   ]
  },
  {
   "cell_type": "markdown",
   "metadata": {},
   "source": [
    "#### What are orbits?\n",
    "\n",
    "<img style=\"width: 60%\" src=\"files/Ellipse-def0.svg.png\">"
   ]
  },
  {
   "cell_type": "markdown",
   "metadata": {},
   "source": [
    "### Integrating the orbit"
   ]
  },
  {
   "cell_type": "code",
   "execution_count": 19,
   "metadata": {},
   "outputs": [],
   "source": [
    "#Move to center of momentum frame and set time step\n",
    "sim.move_to_com()\n",
    "sim.dt = 0.001\n",
    "\n",
    "#Default rebound units are G=1, so a year is 2pi\n",
    "times = np.linspace(0, 100*2*np.pi, 10000)\n",
    "\n",
    "a = np.empty((len(times),), dtype=np.float64)\n",
    "e = np.empty((len(times),), dtype=np.float64)\n",
    "d = np.empty((len(times),), dtype=np.float64)\n",
    "xy = np.empty((len(times),2), dtype=np.float64)\n",
    "\n",
    "comet = sim.particles[-1] #this is a pointer to 67P\n",
    "sun = sim.particles[0] #this is a pointer to the Sun\n",
    "jup = sim.particles[1] #this is a pointer to Jupiter\n",
    "\n",
    "#integrate and save orbital elements\n",
    "for i, t in enumerate(times):\n",
    "    sim.integrate(t)\n",
    "    \n",
    "    orbit = comet.calculate_orbit(primary=sun)\n",
    "    a[i] = orbit.a\n",
    "    e[i] = orbit.e\n",
    "    xy[i,0] = comet.x\n",
    "    xy[i,1] = comet.y\n",
    "    d[i] = np.linalg.norm(np.array(jup.xyz) - np.array(comet.xyz))"
   ]
  },
  {
   "cell_type": "markdown",
   "metadata": {},
   "source": [
    "### Plotting the integration"
   ]
  },
  {
   "cell_type": "code",
   "execution_count": 22,
   "metadata": {},
   "outputs": [
    {
     "data": {
      "application/vnd.jupyter.widget-view+json": {
       "model_id": "48b9629c70464907aff6fe07ac501dae",
       "version_major": 2,
       "version_minor": 0
      },
      "text/plain": [
       "Canvas(toolbar=Toolbar(toolitems=[('Home', 'Reset original view', 'home', 'home'), ('Back', 'Back to previous …"
      ]
     },
     "metadata": {},
     "output_type": "display_data"
    }
   ],
   "source": [
    "import matplotlib.gridspec as gridspec\n",
    "\n",
    "fig = plt.figure(tight_layout=True)\n",
    "gs = gridspec.GridSpec(3, 2)\n",
    "ax = [\n",
    "    fig.add_subplot(gs[0, 0]),\n",
    "    fig.add_subplot(gs[1, 0]),\n",
    "    fig.add_subplot(gs[2, 0]),\n",
    "    fig.add_subplot(gs[:, 1]),\n",
    "]\n",
    "\n",
    "ax[0].plot(times/(2*np.pi), a)\n",
    "ax[0].set_xlabel('Time [y]')\n",
    "ax[0].set_ylabel('Semi-major axis [AU]')\n",
    "\n",
    "ax[1].plot(times/(2*np.pi), e)\n",
    "ax[1].set_xlabel('Time [y]')\n",
    "ax[1].set_ylabel('Eccentricity [1]')\n",
    "\n",
    "ax[2].plot(times/(2*np.pi), np.log10(d))\n",
    "ax[2].set_xlabel('Time [y]')\n",
    "ax[2].set_ylabel('Jupiter Distance [log10(AU)]')\n",
    "\n",
    "ax[3].plot(xy[:,0], xy[:,1], '-', alpha=1, linewidth=0.1)\n",
    "ax[3].set_xlabel('X [AU]')\n",
    "ax[3].set_ylabel('Y [AU]')\n",
    "fig.tight_layout()"
   ]
  },
  {
   "cell_type": "code",
   "execution_count": null,
   "metadata": {},
   "outputs": [],
   "source": []
  }
 ],
 "metadata": {
  "kernelspec": {
   "display_name": "Python 3",
   "language": "python",
   "name": "python3"
  },
  "language_info": {
   "codemirror_mode": {
    "name": "ipython",
    "version": 3
   },
   "file_extension": ".py",
   "mimetype": "text/x-python",
   "name": "python",
   "nbconvert_exporter": "python",
   "pygments_lexer": "ipython3",
   "version": "3.7.0"
  }
 },
 "nbformat": 4,
 "nbformat_minor": 4
}
