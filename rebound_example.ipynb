{
 "cells": [
  {
   "cell_type": "markdown",
   "metadata": {},
   "source": [
    "# Integrating the solarsystem\n",
    "\n",
    "Remember to `pip install rebound` first."
   ]
  },
  {
   "cell_type": "code",
   "execution_count": null,
   "metadata": {},
   "outputs": [],
   "source": [
    "%matplotlib widget\n",
    "import rebound\n",
    "import numpy as np\n",
    "import matplotlib.pyplot as plt\n",
    "\n",
    "print(rebound.__version__)"
   ]
  },
  {
   "cell_type": "markdown",
   "metadata": {},
   "source": [
    "### Add bodies"
   ]
  },
  {
   "cell_type": "code",
   "execution_count": null,
   "metadata": {},
   "outputs": [],
   "source": [
    "sim = rebound.Simulation()\n",
    "\n",
    "#Add the large planets of the solar system and the sun\n",
    "sim.add(\"Sun\")\n",
    "sim.add(\"Jupiter\")\n",
    "sim.add(\"Saturn\")\n",
    "\n",
    "#add a the 67P/Churyumov–Gerasimenko comet\n",
    "sim.add(\"Churyumov-Gerasimenko\", m=5e-18)\n"
   ]
  },
  {
   "cell_type": "markdown",
   "metadata": {},
   "source": [
    "### Plot starting orbits"
   ]
  },
  {
   "cell_type": "code",
   "execution_count": null,
   "metadata": {},
   "outputs": [],
   "source": [
    "fig = rebound.OrbitPlot(sim, unitlabel=\"[AU]\")"
   ]
  },
  {
   "cell_type": "markdown",
   "metadata": {},
   "source": [
    "#### What are orbits?\n",
    "\n",
    "<img style=\"width: 60%\" src=\"files/Ellipse-def0.svg.png\">"
   ]
  },
  {
   "cell_type": "markdown",
   "metadata": {},
   "source": [
    "### Integrating the orbit"
   ]
  },
  {
   "cell_type": "code",
   "execution_count": null,
   "metadata": {},
   "outputs": [],
   "source": [
    "#Move to center of momentum frame and set time step\n",
    "sim.move_to_com()\n",
    "sim.dt = 0.01\n",
    "\n",
    "#Default rebound units are G=1, so a year is 2pi\n",
    "times = np.linspace(0, 100*2*np.pi, 1000)\n",
    "\n",
    "a = np.empty((len(times),), dtype=np.float64)\n",
    "e = np.empty((len(times),), dtype=np.float64)\n",
    "\n",
    "comet = sim.particles[-1] #this is a pointer to 67P\n",
    "sun = sim.particles[0] #this is a pointer to the Sun\n",
    "\n",
    "#integrate and save orbital elements\n",
    "for i, t in enumerate(times):\n",
    "    sim.integrate(t)\n",
    "    \n",
    "    orbit = comet.calculate_orbit(primary=sun)\n",
    "    a[i] = orbit.a\n",
    "    e[i] = orbit.e"
   ]
  },
  {
   "cell_type": "markdown",
   "metadata": {},
   "source": [
    "### Plotting the integration"
   ]
  },
  {
   "cell_type": "code",
   "execution_count": null,
   "metadata": {},
   "outputs": [],
   "source": [
    "fig, ax = plt.subplots(2,1)\n",
    "\n",
    "ax[0].plot(times/(2*np.pi), a)\n",
    "ax[0].set_xlabel('Time [y]')\n",
    "ax[0].set_ylabel('Semi-major axis [AU]')\n",
    "\n",
    "ax[1].plot(times/(2*np.pi), e)\n",
    "ax[1].set_xlabel('Time [y]')\n",
    "ax[1].set_ylabel('Eccentricity [1]')\n",
    "fig.tight_layout()"
   ]
  },
  {
   "cell_type": "code",
   "execution_count": null,
   "metadata": {},
   "outputs": [],
   "source": []
  }
 ],
 "metadata": {
  "kernelspec": {
   "display_name": "Python 3",
   "language": "python",
   "name": "python3"
  },
  "language_info": {
   "codemirror_mode": {
    "name": "ipython",
    "version": 3
   },
   "file_extension": ".py",
   "mimetype": "text/x-python",
   "name": "python",
   "nbconvert_exporter": "python",
   "pygments_lexer": "ipython3",
   "version": "3.7.0"
  }
 },
 "nbformat": 4,
 "nbformat_minor": 4
}
